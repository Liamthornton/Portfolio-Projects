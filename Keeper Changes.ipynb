{
 "cells": [
  {
   "cell_type": "code",
   "execution_count": 81,
   "metadata": {},
   "outputs": [],
   "source": [
    "import pandas as pd\n",
    "import datetime as dt\n",
    "import numpy as np\n",
    "import os\n",
    "from oodle import config\n",
    "from oodle.integrations.hooks.oodle_postgres_hook import OodlePostgresHook"
   ]
  },
  {
   "cell_type": "code",
   "execution_count": 82,
   "metadata": {},
   "outputs": [],
   "source": [
    "def setup_connection():\n",
    "    return OodlePostgresHook(config.REDSHIFT_SECRET).get_conn()\n",
    "\n",
    "hpi_kc = pd.read_excel(os.getcwd() + '/HPI keeper change report 010920-300920.xlsx')"
   ]
  },
  {
   "cell_type": "code",
   "execution_count": 88,
   "metadata": {},
   "outputs": [],
   "source": [
    "def format_hpi_report(hpi_kc):\n",
    "    hpi_kc.drop_duplicates(subset=['VIN']).reset_index(inplace=True)\n",
    "    hpi_kc.astype({'VIN' : 'str'})\n",
    "    return hpi_kc\n",
    " \n",
    "hpi_kc = format_hpi_report(hpi_kc)"
   ]
  },
  {
   "cell_type": "code",
   "execution_count": 85,
   "metadata": {},
   "outputs": [],
   "source": [
    "def grab_portfolio():\n",
    "    query = '''\n",
    "    SELECT la.agreement_code,\n",
    "       la.registration,\n",
    "       la.VIN,\n",
    "       cd.first_name,\n",
    "       cd.last_name,\n",
    "       lt.status_code,\n",
    "       lt.capital_balance,\n",
    "       lt.arrears,\n",
    "       lt.days_in_arrears,\n",
    "       ad.current_address__c\n",
    "    FROM oodledata_loans.loan_agreements AS la\n",
    "    LEFT JOIN oodledata.customer_dim AS cd\n",
    "    ON cd.account_id = la.main_borrower_account_id\n",
    "    LEFT JOIN oodledata_loans.loan_timeline AS lt\n",
    "    ON lt.agreement_code = la.agreement_code AND date = '2020-10-29'  \n",
    "    LEFT JOIN salesforce_realtime.account_defeed AS ad\n",
    "    ON ad.id = la.main_borrower_account_id;\n",
    "    '''\n",
    "    df1 = pd.read_sql(query, setup_connection())\n",
    "    df1 = df1.rename(columns={'registration': 'VRM', 'vin':'VIN'})\n",
    "    df1.VIN.astype(str)\n",
    "    return df1\n",
    "\n",
    "portfolio = grab_portfolio()"
   ]
  },
  {
   "cell_type": "code",
   "execution_count": 86,
   "metadata": {},
   "outputs": [],
   "source": [
    "final_df = hpi_kc.merge(portfolio, how='left', on='VIN', copy=False)\n",
    "final_df = final_df.rename(columns = {'VRM_y':'Oodle VRM', 'VRM_x':'HPI VRM'})"
   ]
  },
  {
   "cell_type": "code",
   "execution_count": 80,
   "metadata": {},
   "outputs": [],
   "source": [
    "final_df.to_excel(os.getcwd() + '/Populated HPI keeper changes report 010920-300920.xlsx')"
   ]
  }
 ],
 "metadata": {
  "kernelspec": {
   "display_name": "Python 3",
   "language": "python",
   "name": "python3"
  },
  "language_info": {
   "codemirror_mode": {
    "name": "ipython",
    "version": 3
   },
   "file_extension": ".py",
   "mimetype": "text/x-python",
   "name": "python",
   "nbconvert_exporter": "python",
   "pygments_lexer": "ipython3",
   "version": "3.7.5"
  }
 },
 "nbformat": 4,
 "nbformat_minor": 4
}
